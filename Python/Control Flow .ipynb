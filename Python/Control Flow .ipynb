{
 "cells": [
  {
   "cell_type": "code",
   "execution_count": 1,
   "id": "4eac250c",
   "metadata": {},
   "outputs": [],
   "source": [
    "#python control flow / if else "
   ]
  },
  {
   "cell_type": "code",
   "execution_count": 2,
   "id": "39582cda",
   "metadata": {},
   "outputs": [
    {
     "name": "stdout",
     "output_type": "stream",
     "text": [
      "Enter Number 56\n",
      "your value is right\n"
     ]
    }
   ],
   "source": [
    "val=input(\"Enter Number \")\n",
    "val_float=float(val)  # Convert user input to a floating-point number beacuse otherwise your number consider as str \n",
    "if (val_float>50):\n",
    "    print(\"your value is right\")\n",
    "else :\n",
    "    print(\"your value is wrong\")\n",
    "    "
   ]
  },
  {
   "cell_type": "code",
   "execution_count": 3,
   "id": "2073f44e",
   "metadata": {},
   "outputs": [
    {
     "name": "stdout",
     "output_type": "stream",
     "text": [
      "Enter NUmber 67\n",
      "your value is odd\n"
     ]
    }
   ],
   "source": [
    "val=input(\"Enter NUmber \")\n",
    "val_float=float(val)  # Convert user input to a floating-point number beacuse otherwise your number consider as str \n",
    "if (val_float%2==0):\n",
    "    print(\"your value is even\")\n",
    "else :\n",
    "    print(\"your value is odd\")"
   ]
  },
  {
   "cell_type": "code",
   "execution_count": 4,
   "id": "8104bbab",
   "metadata": {},
   "outputs": [],
   "source": [
    "#Nested if else "
   ]
  },
  {
   "cell_type": "code",
   "execution_count": 5,
   "id": "349aa720",
   "metadata": {},
   "outputs": [
    {
     "name": "stdout",
     "output_type": "stream",
     "text": [
      "Enter your marks 67\n",
      "Second Divison\n"
     ]
    }
   ],
   "source": [
    "marks=input(\"Enter your marks \")\n",
    "mark=int(marks)\n",
    "if(mark<35):\n",
    "    print(\"fail\")\n",
    "elif(mark>=35 and mark<=60):\n",
    "    print(\"Third Division\")\n",
    "elif(mark>=60 and mark<=80 ):\n",
    "    print(\"Second Divison\")\n",
    "elif(mark>=80):\n",
    "    print(\"First Division\")\n",
    "else:\n",
    "          print(\"Abesnt\")"
   ]
  },
  {
   "cell_type": "code",
   "execution_count": 6,
   "id": "2f0438bd",
   "metadata": {},
   "outputs": [],
   "source": [
    "##Loop "
   ]
  },
  {
   "cell_type": "code",
   "execution_count": 7,
   "id": "368dfe2b",
   "metadata": {},
   "outputs": [],
   "source": [
    "list=[1,2,3,4,5,6,7,8,9]\n"
   ]
  },
  {
   "cell_type": "code",
   "execution_count": 8,
   "id": "40741d8c",
   "metadata": {},
   "outputs": [
    {
     "name": "stdout",
     "output_type": "stream",
     "text": [
      "1\n",
      "2\n",
      "3\n",
      "4\n",
      "5\n",
      "6\n",
      "7\n",
      "8\n",
      "9\n"
     ]
    }
   ],
   "source": [
    "for i in list :\n",
    "    print(i)"
   ]
  },
  {
   "cell_type": "code",
   "execution_count": 9,
   "id": "27c46574",
   "metadata": {},
   "outputs": [
    {
     "name": "stdout",
     "output_type": "stream",
     "text": [
      "45\n"
     ]
    }
   ],
   "source": [
    "sum1=0\n",
    "for i in list:\n",
    "    sum1=sum1+i\n",
    "print(sum1)\n",
    "    \n"
   ]
  },
  {
   "cell_type": "code",
   "execution_count": 10,
   "id": "d6e326a4",
   "metadata": {},
   "outputs": [],
   "source": [
    "list1=[1,2,3,4,5,6,7,8,9]\n"
   ]
  },
  {
   "cell_type": "code",
   "execution_count": 11,
   "id": "e27de757",
   "metadata": {},
   "outputs": [
    {
     "name": "stdout",
     "output_type": "stream",
     "text": [
      "The Even Sum is 20\n",
      "The Odd Sum is 25\n"
     ]
    }
   ],
   "source": [
    "even=0\n",
    "odd=0\n",
    "\n",
    "for i in list1:\n",
    "    if(i%2==0):\n",
    "        even=even+i\n",
    "    else:\n",
    "        odd=odd+i\n",
    "print(\"The Even Sum is {}\" .format(even))\n",
    "print(\"The Odd Sum is {}\" .format(odd))"
   ]
  },
  {
   "cell_type": "code",
   "execution_count": 12,
   "id": "aabbf717",
   "metadata": {},
   "outputs": [
    {
     "name": "stdout",
     "output_type": "stream",
     "text": [
      "The Even Sum is 40\n",
      "The Odd Sum is 50\n"
     ]
    }
   ],
   "source": [
    "i=0\n",
    "\n",
    "while(i<10):\n",
    "    if(i%2==0):\n",
    "        even=even+i\n",
    "    else:\n",
    "        odd=odd+i\n",
    "    i=i+1\n",
    "       \n",
    "\n",
    "print(\"The Even Sum is {}\" .format(even))\n",
    "print(\"The Odd Sum is {}\" .format(odd))\n",
    "    "
   ]
  },
  {
   "cell_type": "code",
   "execution_count": 13,
   "id": "173309d9",
   "metadata": {},
   "outputs": [
    {
     "name": "stdout",
     "output_type": "stream",
     "text": [
      "0\n",
      "1\n",
      "2\n",
      "3\n"
     ]
    }
   ],
   "source": [
    "i=0\n",
    "\n",
    "while(i<10):\n",
    "    if(i==4):\n",
    "        break\n",
    "    print(i)\n",
    "    i=i+1\n",
    "    "
   ]
  },
  {
   "cell_type": "code",
   "execution_count": null,
   "id": "c6378656",
   "metadata": {},
   "outputs": [],
   "source": [
    "i=0\n",
    "\n",
    "while(i<10):\n",
    "    i=i+1\n",
    "    if(i==4):\n",
    "        continue \n",
    "    print(i)\n",
    "    "
   ]
  },
  {
   "cell_type": "code",
   "execution_count": null,
   "id": "cab20b01",
   "metadata": {},
   "outputs": [],
   "source": []
  }
 ],
 "metadata": {
  "kernelspec": {
   "display_name": "Python 3 (ipykernel)",
   "language": "python",
   "name": "python3"
  },
  "language_info": {
   "codemirror_mode": {
    "name": "ipython",
    "version": 3
   },
   "file_extension": ".py",
   "mimetype": "text/x-python",
   "name": "python",
   "nbconvert_exporter": "python",
   "pygments_lexer": "ipython3",
   "version": "3.11.5"
  }
 },
 "nbformat": 4,
 "nbformat_minor": 5
}
